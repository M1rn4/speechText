{
 "cells": [
  {
   "cell_type": "code",
   "execution_count": 1,
   "metadata": {},
   "outputs": [],
   "source": [
    "from elevenlabs import clone, generate, play\n",
    "import os\n"
   ]
  },
  {
   "cell_type": "code",
   "execution_count": 2,
   "metadata": {},
   "outputs": [],
   "source": [
    "eleven_api_key = os.getenv(\"ELEVEN_API_KEY\")"
   ]
  },
  {
   "cell_type": "code",
   "execution_count": 3,
   "metadata": {},
   "outputs": [],
   "source": [
    "\n",
    "mirna = clone(\n",
    "    name=\"Mirna\",\n",
    "    description=\"An youngperuvian woman\", # Optional\n",
    "    files=[\"./mirna.mp3\"],)\n"
   ]
  },
  {
   "cell_type": "code",
   "execution_count": 7,
   "metadata": {},
   "outputs": [],
   "source": [
    "from elevenlabs.api.voice import Voice, VoiceSample"
   ]
  },
  {
   "cell_type": "code",
   "execution_count": 2,
   "metadata": {},
   "outputs": [],
   "source": [
    "luis = clone(\n",
    "    name=\"Luis\",\n",
    "    description=\"An youngperuvian man\", # Optional\n",
    "    files=[\"./luis.mp3\"],)"
   ]
  },
  {
   "cell_type": "code",
   "execution_count": 3,
   "metadata": {},
   "outputs": [
    {
     "name": "stdout",
     "output_type": "stream",
     "text": [
      "voice_id='KMrL33JuYiwp84JqMMEj' name='Luis' category='cloned' description='An youngperuvian man' labels={} samples=[VoiceSample(sample_id='naDqQrV078nznsW2NPY2', file_name='luis_140380489835440.mp3', mime_type='audio/mpeg', size_bytes=1076662, hash='88ed95cfc4587c9a6f5750a5d5fbfab4')] settings=VoiceSettings(stability=0.5, similarity_boost=0.75) design=None\n"
     ]
    }
   ],
   "source": [
    "print(luis)"
   ]
  },
  {
   "cell_type": "code",
   "execution_count": null,
   "metadata": {},
   "outputs": [],
   "source": [
    "luis1=Voice(voice_id='KMrL33JuYiwp84JqMMEj' ,name='Luis' ,category='cloned' ,description='An youngperuvian man' ,labels={} ,samples=[VoiceSample(sample_id='naDqQrV078nznsW2NPY2', file_name='luis_140380489835440.mp3', mime_type='audio/mpeg', size_bytes=1076662, hash='88ed95cfc4587c9a6f5750a5d5fbfab4')] )"
   ]
  },
  {
   "cell_type": "code",
   "execution_count": 21,
   "metadata": {},
   "outputs": [],
   "source": [
    "mirna1 = Voice(voice_id='Z5hZFyjdboTgD6JMcHfe',name='Mirna' ,category='cloned' ,description='An youngperuvian woman' ,labels={} ,samples=[VoiceSample(sample_id='L88SMYiFzCYkSprAuyzj', file_name='mirna_139974256535680.mp3', mime_type='audio/mpeg', size_bytes=409600, hash=\"a148bd04522c079cd4b02de356dd4d76\")])"
   ]
  },
  {
   "cell_type": "code",
   "execution_count": 3,
   "metadata": {},
   "outputs": [],
   "source": [
    "\n",
    "mirna2 = clone(\n",
    "    name=\"Mirna2\",\n",
    "    description=\"An young peruvian woman\", # Optional\n",
    "    files=[\"./mirna.mp3\",\"./grabacion02.mp3\", \"./grabacion03.mp3\"],)\n"
   ]
  },
  {
   "cell_type": "code",
   "execution_count": 10,
   "metadata": {},
   "outputs": [],
   "source": [
    "mirna21= Voice(voice_id='nEFxzDF5WaT5tigFSqKa' ,name='Mirna2' ,category='cloned' ,description='An young peruvian woman' ,labels={} ,samples=[VoiceSample(sample_id='DPLGEMtgTdxJzUWhPD0r', file_name='grabacion03_140492797287408.mp3', mime_type='audio/mpeg', size_bytes=434677, hash='f41f2d2bffb2411819e85896d7a81b17'), VoiceSample(sample_id='PBX2b0JRpCwCYUigIv11', file_name='grabacion02_140492797287584.mp3', mime_type='audio/mpeg', size_bytes=419631, hash='cc3657735ec7dc88fbdfc0a24919a4a2'), VoiceSample(sample_id='gnQKHdHkcLkkLEmLm0G2', file_name='mirna_140492797285296.mp3', mime_type='audio/mpeg', size_bytes=409600, hash='a148bd04522c079cd4b02de356dd4d76')] )"
   ]
  },
  {
   "cell_type": "code",
   "execution_count": 23,
   "metadata": {},
   "outputs": [],
   "source": [
    "mitchel = clone(\n",
    "    name=\"Mitchel\",\n",
    "    description=\"An young peruvian man\", # Optional\n",
    "    files=[\"./mitchel.mp3\"],)"
   ]
  },
  {
   "cell_type": "code",
   "execution_count": 26,
   "metadata": {},
   "outputs": [],
   "source": [
    "mitchel1= Voice(voice_id='vgojDlfMZ2gA7pSS7BpG' ,name='Mitchel' ,category='cloned' ,description='An young peruvian man' ,labels={} ,samples=[VoiceSample(sample_id='I7P9lZLCjeTE68Je6jbF', file_name='mitchel_139974250181728.mp3', mime_type='audio/mpeg', size_bytes=509277, hash='2d1e7456401a27192239a8f1570bee46')] )"
   ]
  },
  {
   "cell_type": "code",
   "execution_count": 24,
   "metadata": {},
   "outputs": [
    {
     "name": "stdout",
     "output_type": "stream",
     "text": [
      "voice_id='vgojDlfMZ2gA7pSS7BpG' name='Mitchel' category='cloned' description='An young peruvian man' labels={} samples=[VoiceSample(sample_id='I7P9lZLCjeTE68Je6jbF', file_name='mitchel_139974250181728.mp3', mime_type='audio/mpeg', size_bytes=509277, hash='2d1e7456401a27192239a8f1570bee46')] settings=VoiceSettings(stability=0.5, similarity_boost=0.75) design=None\n"
     ]
    }
   ],
   "source": [
    "print(mitchel)"
   ]
  }
 ],
 "metadata": {
  "kernelspec": {
   "display_name": "myenv",
   "language": "python",
   "name": "python3"
  },
  "language_info": {
   "codemirror_mode": {
    "name": "ipython",
    "version": 3
   },
   "file_extension": ".py",
   "mimetype": "text/x-python",
   "name": "python",
   "nbconvert_exporter": "python",
   "pygments_lexer": "ipython3",
   "version": "3.8.10"
  },
  "orig_nbformat": 4
 },
 "nbformat": 4,
 "nbformat_minor": 2
}
